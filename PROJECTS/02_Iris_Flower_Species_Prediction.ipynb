{
  "nbformat": 4,
  "nbformat_minor": 0,
  "metadata": {
    "colab": {
      "provenance": []
    },
    "kernelspec": {
      "name": "python3",
      "display_name": "Python 3"
    },
    "language_info": {
      "name": "python"
    }
  },
  "cells": [
    {
      "cell_type": "markdown",
      "source": [
        "# Iris Flower Species Prediction (TODO Version)\n",
        "\n",
        "In this project, you will build a model to classify iris plants into one of three species based on the sizes of their petals and sepals. This is a multi-class classification problem that is well-suited for beginners to learn the fundamentals of machine learning classification.\n",
        "\n",
        "## Objective\n",
        "\n",
        "The goal is to predict the species of an iris plant based on the available attributes. You'll get to practice with a simple yet powerful classification algorithm.\n",
        "\n",
        "## Getting Started\n",
        "\n",
        "Research how to load the Iris dataset from `sklearn.datasets`. The `load_iris()` function will be useful here.\n",
        "\n",
        "- **Resource**: [Scikit-learn Iris dataset](https://scikit-learn.org/stable/auto_examples/datasets/plot_iris_dataset.html)\n"
      ],
      "metadata": {
        "id": "-bpPaOHFR8p2"
      }
    },
    {
      "cell_type": "code",
      "execution_count": null,
      "metadata": {
        "id": "-A8ZTmLZQcG1"
      },
      "outputs": [],
      "source": [
        "# TODO: Import necessary libraries\n",
        "# Hint: You will need pandas, numpy, sklearn, and matplotlib or seaborn"
      ]
    },
    {
      "cell_type": "code",
      "source": [
        "# TODO: Load the dataset\n",
        "# Hint: Use sklearn.datasets.load_iris() and create a DataFrame"
      ],
      "metadata": {
        "id": "wBVVg1EFSCqy"
      },
      "execution_count": null,
      "outputs": []
    },
    {
      "cell_type": "markdown",
      "source": [
        "## Data Exploration\n",
        "Take your time to understand the dataset. Look at the shape of the data, examine the features and target variables, and explore the statistical summary of the features.\n",
        "\n",
        "- **TODO**: Use DataFrame methods like `head`, `info`, and `describe` to explore the dataset.\n",
        "- **TODO**: Visualize the feature distributions and relationships between features.\n",
        "\n",
        "- **Resource**: [Pandas Visualization](https://pandas.pydata.org/pandas-docs/stable/user_guide/visualization.html)\n",
        "- **Resource**: [Seaborn Tutorial](https://seaborn.pydata.org/tutorial.html)"
      ],
      "metadata": {
        "id": "rFWCkHzESHlC"
      }
    },
    {
      "cell_type": "code",
      "source": [
        "# TODO: Perform data exploration"
      ],
      "metadata": {
        "id": "hQUCbuyQSKbc"
      },
      "execution_count": null,
      "outputs": []
    },
    {
      "cell_type": "markdown",
      "source": [
        "## Preprocessing the Data\n",
        "Prepare your data for training. Handle any necessary preprocessing steps such as scaling features, encoding categorical variables, and splitting the data into training and testing sets.\n",
        "\n",
        "- **TODO**: Preprocess the data to be ready for use in a machine learning model.\n",
        "- **TODO**: Split the data into features and target variable, then further into training and test sets.\n",
        "\n",
        "- **Resource**: [Preprocessing in Scikit-learn](https://scikit-learn.org/stable/modules/preprocessing.html)"
      ],
      "metadata": {
        "id": "X5m2j_A8SNsq"
      }
    },
    {
      "cell_type": "code",
      "source": [
        "# TODO: Preprocess the data"
      ],
      "metadata": {
        "id": "YILBKG0TSaff"
      },
      "execution_count": null,
      "outputs": []
    },
    {
      "cell_type": "markdown",
      "source": [
        "## Building and Training the Model\n",
        "Choose a suitable model for classification. Train your model using the training data.\n",
        "\n",
        "- **TODO**: Build and train a classification model.\n",
        "- **TODO**: Make predictions on the test data.\n",
        "\n",
        "- **Resource**: [Scikit-learn Supervised Learning](https://scikit-learn.org/stable/supervised_learning.html)"
      ],
      "metadata": {
        "id": "bzbghTU-SdIe"
      }
    },
    {
      "cell_type": "code",
      "source": [
        "# TODO: Build, train, and evaluate your model"
      ],
      "metadata": {
        "id": "vVzJ0OFKSmO8"
      },
      "execution_count": null,
      "outputs": []
    },
    {
      "cell_type": "markdown",
      "source": [
        "## Evaluating the Model\n",
        "It's important to evaluate your trained model by calculating performance metrics and comparing the predicted values against the actual values.\n",
        "\n",
        "- **TODO**: Evaluate the model's performance using appropriate metrics.\n",
        "- **TODO**: Consider plotting a confusion matrix or other visual tools to understand the model's predictions.\n",
        "\n",
        "- **Resource**: [Model Evaluation in Scikit-learn](https://scikit-learn.org/stable/modules/model_evaluation.html)"
      ],
      "metadata": {
        "id": "79EyTgAYSqHQ"
      }
    },
    {
      "cell_type": "code",
      "source": [
        "# TODO: Evaluate the model"
      ],
      "metadata": {
        "id": "CzY25SY0Ss3g"
      },
      "execution_count": null,
      "outputs": []
    },
    {
      "cell_type": "markdown",
      "source": [
        "## Conclusion\n",
        "\n",
        "Reflect on the performance of your model and the learning process. Consider how you might improve your model and what other algorithms you could try.\n",
        "\n",
        "Congratulations on completing this project!"
      ],
      "metadata": {
        "id": "D76PETemSv1j"
      }
    }
  ]
}