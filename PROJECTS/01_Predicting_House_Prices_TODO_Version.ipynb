{
 "cells": [
  {
   "cell_type": "markdown",
   "id": "3251f4a0",
   "metadata": {},
   "source": [
    "# Predicting House Prices (TODO Version)\n",
    "This version of the project is designed for you to apply what you've learned and research solutions to complete the tasks. Each section contains a TODO where you'll need to fill in the code or answer questions based on provided resources.\n",
    "\n",
    "## Objective\n",
    "Your goal is to build a simple linear regression model to predict the prices of houses based on various features. You'll be using the Boston Housing dataset.\n",
    "\n",
    "## Getting Started\n",
    "First, you'll need to load the dataset. Look up how to load the Boston Housing dataset using `sklearn.datasets`. Here's a hint: you might find `load_boston()` useful.\n",
    "\n",
    "- **Resource**: [Scikit-learn Datasets](https://scikit-learn.org/stable/datasets/index.html)"
   ]
  },
  {
   "cell_type": "code",
   "execution_count": null,
   "id": "f229775a",
   "metadata": {},
   "outputs": [],
   "source": [
    "# TODO: Import necessary libraries\n",
    "# You will need numpy, pandas, matplotlib.pyplot, and sklearn. Look up how to import these libraries."
   ]
  },
  {
   "cell_type": "code",
   "execution_count": null,
   "id": "2fea125d",
   "metadata": {},
   "outputs": [],
   "source": [
    "# TODO: Load the dataset\n",
    "# Use sklearn.datasets.load_boston() and create a DataFrame"
   ]
  },
  {
   "cell_type": "markdown",
   "id": "a8fe9536",
   "metadata": {},
   "source": [
    "## Data Exploration\n",
    "Before building the model, explore the dataset. Check the first few rows, describe the data, and perhaps plot some relationships between features and the target variable.\n",
    "\n",
    "- **TODO**: Display the first few rows of the dataset.\n",
    "- **TODO**: Display the descriptive statistics of the dataset.\n",
    "- **TODO**: Plot the distribution of the target variable (MEDV).\n",
    "\n",
    "- **Resource**: [Pandas Documentation](https://pandas.pydata.org/pandas-docs/stable/)\n",
    "- **Resource**: [Matplotlib Tutorials](https://matplotlib.org/stable/tutorials/index.html)"
   ]
  },
  {
   "cell_type": "code",
   "execution_count": null,
   "id": "fe68f1b0",
   "metadata": {},
   "outputs": [],
   "source": [
    "# TODO: Explore the dataset\n",
    "# Use df.head(), df.describe(), and plt.hist() to explore the dataset."
   ]
  },
  {
   "cell_type": "markdown",
   "id": "dc50fe8b",
   "metadata": {},
   "source": [
    "## Preprocessing the Data\n",
    "Now, prepare your data for the model. This involves creating feature and target variable arrays and splitting the data into training and testing sets.\n",
    "\n",
    "- **TODO**: Split the dataset into features (X) and the target variable (y).\n",
    "- **TODO**: Use `train_test_split` to divide the data into training and testing sets.\n",
    "\n",
    "- **Resource**: [Train/Test Split](https://scikit-learn.org/stable/modules/generated/sklearn.model_selection.train_test_split.html)"
   ]
  },
  {
   "cell_type": "code",
   "execution_count": null,
   "id": "3264d4c7",
   "metadata": {},
   "outputs": [],
   "source": [
    "# TODO: Preprocess the data\n",
    "# Split the data into features and target variable, then into training and testing sets."
   ]
  },
  {
   "cell_type": "markdown",
   "id": "28e1645a",
   "metadata": {},
   "source": [
    "## Building and Training the Model\n",
    "It's time to build and train your linear regression model. You'll need to initialize the model, train it on the training data, and then make predictions on the test set.\n",
    "\n",
    "- **TODO**: Initialize and train a linear regression model.\n",
    "- **TODO**: Make predictions on the test set.\n",
    "\n",
    "- **Resource**: [Linear Regression in scikit-learn](https://scikit-learn.org/stable/modules/linear_model.html#ordinary-least-squares)"
   ]
  },
  {
   "cell_type": "code",
   "execution_count": null,
   "id": "ca99030d",
   "metadata": {},
   "outputs": [],
   "source": [
    "# TODO: Build and train the model\n",
    "# Initialize the model, fit it to the training data, and make predictions."
   ]
  },
  {
   "cell_type": "markdown",
   "id": "04169506",
   "metadata": {},
   "source": [
    "## Model Evaluation\n",
    "Evaluate your model's performance by calculating the mean squared error and the coefficient of determination (R^2) on the test set.\n",
    "\n",
    "- **TODO**: Evaluate the model using MSE and R^2.\n",
    "- **Resource**: [Metrics and scoring: quantifying the quality of predictions](https://scikit-learn.org/stable/modules/model_evaluation.html)"
   ]
  },
  {
   "cell_type": "code",
   "execution_count": null,
   "id": "16bf16e8",
   "metadata": {},
   "outputs": [],
   "source": [
    "# TODO: Evaluate the model\n",
    "# Calculate and print the mean squared error and the coefficient of determination."
   ]
  },
  {
   "cell_type": "markdown",
   "id": "8a258eb8",
   "metadata": {},
   "source": [
    "## Conclusion\n",
    "Reflect on the model's performance and what steps you might take to improve it. This project is your first step into machine learning. Continue experimenting with different models, features, and tuning parameters to improve your skills.\n",
    "\n",
    "Congratulations on completing this project!"
   ]
  }
 ],
 "metadata": {},
 "nbformat": 4,
 "nbformat_minor": 5
}
