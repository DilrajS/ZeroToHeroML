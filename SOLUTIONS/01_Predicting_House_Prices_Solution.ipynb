{
 "cells": [
  {
   "cell_type": "markdown",
   "id": "93f95a30",
   "metadata": {},
   "source": [
    "# Predicting House Prices\n",
    "Welcome to the first project in the ZeroToHeroML series! In this project, we will dive into a classic machine learning problem - predicting house prices. We'll be using the Boston Housing dataset, which is available through the `sklearn.datasets` library, making it easy to access and use for our purposes.\n",
    "\n",
    "## Objective\n",
    "Our goal is to build a simple linear regression model to predict the prices of houses based on various features like the number of rooms, age, distance to employment centers, and more.\n",
    "\n",
    "## The Boston Housing Dataset\n",
    "The Boston Housing dataset contains information collected by the U.S Census Service concerning housing in the area of Boston Mass. It has 506 entries with 13 features that might help us predict the median value of owner-occupied homes. Let's get started!"
   ]
  },
  {
   "cell_type": "code",
   "execution_count": null,
   "id": "08021937",
   "metadata": {},
   "outputs": [],
   "source": [
    "# Import necessary libraries\n",
    "import numpy as np\n",
    "import pandas as pd\n",
    "import matplotlib.pyplot as plt\n",
    "from sklearn.datasets import load_boston\n",
    "from sklearn.model_selection import train_test_split\n",
    "from sklearn.linear_model import LinearRegression\n",
    "from sklearn.metrics import mean_squared_error, r2_score\n",
    "\n",
    "# Load the dataset\n",
    "boston = load_boston()\n",
    "df = pd.DataFrame(boston.data, columns=boston.feature_names)\n",
    "df['MEDV'] = boston.target"
   ]
  },
  {
   "cell_type": "markdown",
   "id": "e5cadf21",
   "metadata": {},
   "source": [
    "## Data Exploration\n",
    "Before we dive into building our model, let's take a moment to explore our dataset. We'll look at the first few rows, the distribution of our target variable, and a correlation matrix to understand how different features relate to each other."
   ]
  },
  {
   "cell_type": "code",
   "execution_count": null,
   "id": "1e37a304",
   "metadata": {},
   "outputs": [],
   "source": [
    "# Display the first few rows of the dataset\n",
    "df.head()"
   ]
  },
  {
   "cell_type": "code",
   "execution_count": null,
   "id": "b0b10a78",
   "metadata": {},
   "outputs": [],
   "source": [
    "# Descriptive statistics for the dataset\n",
    "df.describe()"
   ]
  },
  {
   "cell_type": "code",
   "execution_count": null,
   "id": "3e084317",
   "metadata": {},
   "outputs": [],
   "source": [
    "# Plot the distribution of the target variable - MEDV\n",
    "plt.hist(df['MEDV'], bins=30)\n",
    "plt.xlabel('House Prices ($1000s)')\n",
    "plt.ylabel('Count')\n",
    "plt.show()"
   ]
  },
  {
   "cell_type": "code",
   "execution_count": null,
   "id": "e5461235",
   "metadata": {},
   "outputs": [],
   "source": [
    "# Correlation matrix\n",
    "import seaborn as sns\n",
    "\n",
    "plt.figure(figsize=(12, 10))\n",
    "correlation_matrix = df.corr().round(2)\n",
    "sns.heatmap(data=correlation_matrix, annot=True)"
   ]
  },
  {
   "cell_type": "markdown",
   "id": "3fbc970e",
   "metadata": {},
   "source": [
    "## Preprocessing the Data\n",
    "Now that we have a basic understanding of our dataset, let's prepare our data for modeling. This involves splitting our dataset into features (X) and the target variable (y), and then into training and testing sets."
   ]
  },
  {
   "cell_type": "code",
   "execution_count": null,
   "id": "113040bc",
   "metadata": {},
   "outputs": [],
   "source": [
    "# Splitting the dataset into features and target variable\n",
    "X = df.drop('MEDV', axis=1)\n",
    "y = df['MEDV']\n",
    "\n",
    "# Splitting into training and testing sets\n",
    "X_train, X_test, y_train, y_test = train_test_split(X, y, test_size=0.2, random_state=42)"
   ]
  },
  {
   "cell_type": "markdown",
   "id": "e1f8fdbe",
   "metadata": {},
   "source": [
    "## Building and Training the Model\n",
    "With our data prepared, we can now build and train our linear regression model."
   ]
  },
  {
   "cell_type": "code",
   "execution_count": null,
   "id": "1ba026a4",
   "metadata": {},
   "outputs": [],
   "source": [
    "# Initialize the model\n",
    "model = LinearRegression()\n",
    "\n",
    "# Train the model\n",
    "model.fit(X_train, y_train)"
   ]
  },
  {
   "cell_type": "markdown",
   "id": "cd032eb5",
   "metadata": {},
   "source": [
    "## Model Evaluation\n",
    "After training our model, it's important to evaluate its performance using the test set. We'll use the mean squared error (MSE) and the coefficient of determination (R^2) as our metrics."
   ]
  },
  {
   "cell_type": "code",
   "execution_count": null,
   "id": "a2cb7726",
   "metadata": {},
   "outputs": [],
   "source": [
    "# Predicting the test set results\n",
    "y_pred = model.predict(X_test)\n",
    "\n",
    "# Calculating the model performance\n",
    "mse = mean_squared_error(y_test, y_pred)\n",
    "r2 = r2_score(y_test, y_pred)\n",
    "\n",
    "print(f'Mean Squared Error: {mse:.2f}')\n",
    "print(f'Coefficient of Determination (R^2): {r2:.2f}')"
   ]
  },
  {
   "cell_type": "markdown",
   "id": "5178f647",
   "metadata": {},
   "source": [
    "## Conclusion\n",
    "Congratulations on completing the first project! You've taken your first steps into machine learning by building and evaluating a simple linear regression model to predict house prices. As you progress through ZeroToHeroML, you'll encounter more complex models and techniques. Keep experimenting and learning!"
   ]
  }
 ],
 "metadata": {},
 "nbformat": 4,
 "nbformat_minor": 5
}
