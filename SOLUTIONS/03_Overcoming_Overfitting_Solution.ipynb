{
  "cells": [
    {
      "cell_type": "markdown",
      "metadata": {},
      "source": [
        "# Overcoming Overfitting Solution\n",
        "\n",
        "This version of the project is designed for you to apply what you've learned and research solutions to complete the tasks. Each section contains a TODO where you'll need to fill in the code or answer questions based on provided resources."
      ]
    },
    {
      "cell_type": "markdown",
      "metadata": {},
      "source": [
        "## Objective\n",
        "\n",
        "Your goal is to understand and mitigate overfitting in machine learning models using the synthetic dataset."
      ]
    },
    {
      "cell_type": "markdown",
      "metadata": {},
      "source": [
        "## Getting Started\n",
        "\n",
        "First, you'll need to generate a synthetic dataset. Research how to use `make_regression` from `sklearn.datasets` to create a dataset suitable for regression tasks.\n",
        "\n",
        "- **Resource**: [Scikit-learn Datasets](https://scikit-learn.org/stable/datasets/index.html)"
      ]
    },
    {
      "cell_type": "code",
      "execution_count": null,
      "metadata": {},
      "outputs": [],
      "source": [
        "# TODO: Import necessary libraries\n",
        "# You will need numpy, pandas, matplotlib.pyplot, sklearn. Look up how to import these libraries.\n",
        "import numpy as np\n",
        "import pandas as pd\n",
        "import matplotlib.pyplot as plt\n",
        "from sklearn.datasets import make_regression\n",
        "from sklearn.model_selection import train_test_split\n",
        "from sklearn.preprocessing import StandardScaler\n",
        "from sklearn.linear_model import LinearRegression, Ridge\n",
        "from sklearn.metrics import mean_squared_error, r2_score"
      ]
    },
    {
      "cell_type": "code",
      "execution_count": null,
      "metadata": {},
      "outputs": [],
      "source": [
        "# TODO: Generate the dataset\n",
        "# Use sklearn.datasets.make_regression() and create a DataFrame\n",
        "X, y = make_regression(n_samples=100, n_features=1, noise=20, random_state=42)\n",
        "X = X.reshape(-1, 1)  # Ensuring X is 2D\n"
      ]
    },
    {
      "cell_type": "markdown",
      "metadata": {},
      "source": [
        "## Data Exploration\n",
        "Understand your dataset by plotting the generated data points.\n",
        "\n",
        "- **TODO**: Plot the generated synthetic data.\n",
        "\n",
        "- **Resource**: [Matplotlib Tutorials](https://matplotlib.org/stable/tutorials/index.html)"
      ]
    },
    {
      "cell_type": "code",
      "execution_count": null,
      "metadata": {},
      "outputs": [],
      "source": [
        "# TODO: Explore the dataset\n",
        "# Use plt.scatter() to visualize the dataset.\n",
        "plt.scatter(X, y)\n",
        "plt.title('Synthetic Dataset Visualization')\n",
        "plt.xlabel('Feature Value')\n",
        "plt.ylabel('Target Value')\n",
        "plt.show()"
      ]
    },
    {
      "cell_type": "markdown",
      "metadata": {},
      "source": [
        "## Preprocessing the Data\n",
        "Prepare your data for modeling.\n",
        "\n",
        "- **TODO**: Split the dataset into features (X) and the target variable (y).\n",
        "- **TODO**: Use `train_test_split` to divide the data into training and testing sets.\n",
        "\n",
        "- **Resource**: [Train/Test Split](https://scikit-learn.org/stable/modules/generated/sklearn.model_selection.train_test_split.html)"
      ]
    },
    {
      "cell_type": "code",
      "execution_count": null,
      "metadata": {},
      "outputs": [],
      "source": [
        "# TODO: Preprocess the data\n",
        "# Split the data into features and target variable, then into training and testing sets.\n",
        "# Split the data into training and testing sets\n",
        "X_train, X_test, y_train, y_test = train_test_split(X, y, test_size=0.2, random_state=42)\n",
        "\n",
        "# Feature scaling\n",
        "scaler = StandardScaler()\n",
        "X_train_scaled = scaler.fit_transform(X_train)\n",
        "X_test_scaled = scaler.transform(X_test)\n"
      ]
    },
    {
      "cell_type": "markdown",
      "metadata": {},
      "source": [
        "## Building and Training the Model\n",
        "Experiment with different models and regularization techniques to overcome overfitting.\n",
        "\n",
        "- **TODO**: Train models with and without regularization and compare their performances.\n",
        "\n",
        "- **Resource**: [Regularization in Linear Models](https://scikit-learn.org/stable/modules/linear_model.html#ridge-regression)"
      ]
    },
    {
      "cell_type": "code",
      "execution_count": null,
      "metadata": {},
      "outputs": [],
      "source": [
        "# TODO: Build and train the models\n",
        "# Initialize and train different models, apply regularization techniques.\n",
        "# Training a linear regression model"
      ]
    },
    {
      "cell_type": "code",
      "execution_count": null,
      "metadata": {},
      "outputs": [],
      "source": [
        "# Linear Regression Model (Without Regularization) \n",
        "# Training a linear regression model\n",
        "lin_reg = LinearRegression()\n",
        "lin_reg.fit(X_train_scaled, y_train)\n",
        "\n",
        "# Predictions\n",
        "y_pred_lin = lin_reg.predict(X_test_scaled)\n"
      ]
    },
    {
      "cell_type": "code",
      "execution_count": null,
      "metadata": {},
      "outputs": [],
      "source": [
        "# Ridge Regression Model (With L2 Regularization)\n",
        "# Training a Ridge regression model\n",
        "ridge_reg = Ridge(alpha=1)\n",
        "ridge_reg.fit(X_train_scaled, y_train)\n",
        "\n",
        "# Predictions\n",
        "y_pred_ridge = ridge_reg.predict(X_test_scaled)\n"
      ]
    },
    {
      "cell_type": "markdown",
      "metadata": {},
      "source": [
        "## Model Evaluation\n",
        "Evaluate the performance of your models on the training and test sets.\n",
        "\n",
        "- **TODO**: Evaluate the models using MSE and R^2. Compare their performances to understand the impact of overfitting.\n",
        "\n",
        "- **Resource**: [Metrics and scoring: quantifying the quality of predictions](https://scikit-learn.org/stable/modules/model_evaluation.html)"
      ]
    },
    {
      "cell_type": "code",
      "execution_count": null,
      "metadata": {},
      "outputs": [],
      "source": [
        "# TODO: Evaluate the models\n",
        "# Calculate and print the mean squared error and the coefficient of determination for both models.\n",
        "\n",
        "# Evaluation of Linear Regression Model\n",
        "mse_lin = mean_squared_error(y_test, y_pred_lin)\n",
        "r2_lin = r2_score(y_test, y_pred_lin)\n",
        "print(f'Linear Regression MSE: {mse_lin:.2f}')\n",
        "print(f'Linear Regression R^2: {r2_lin:.2f}')\n",
        "\n",
        "# Evaluation of Ridge Regression Model\n",
        "mse_ridge = mean_squared_error(y_test, y_pred_ridge)\n",
        "r2_ridge = r2_score(y_test, y_pred_ridge)\n",
        "print(f'Ridge Regression MSE: {mse_ridge:.2f}')\n",
        "print(f'Ridge Regression R^2: {r2_ridge:.2f}')\n"
      ]
    },
    {
      "cell_type": "markdown",
      "metadata": {},
      "source": [
        "## Conclusion\n",
        "\n",
        "In this project, we explored how to handle overfitting through regularization techniques. We compared a basic Linear Regression model with a Ridge Regression model that includes L2 regularization. Regularization helps to mitigate overfitting by adding a penalty on the size of coefficients.\n",
        "\n",
        "Experiment with different values of alpha in the Ridge model to see how it affects overfitting. Also, consider exploring other regularization techniques like Lasso (L1 regularization) to further your understanding.\n",
        "\n",
        "Congratulations on completing this project and taking a step further in mastering machine learning concepts!\n",
        "\n"
      ]
    }
  ],
  "metadata": {
    "colab": {
      "provenance": []
    },
    "kernelspec": {
      "display_name": "Python 3",
      "name": "python3"
    },
    "language_info": {
      "name": "python"
    }
  },
  "nbformat": 4,
  "nbformat_minor": 0
}
