{
  "cells": [
    {
      "cell_type": "markdown",
      "metadata": {
        "id": "-bpPaOHFR8p2"
      },
      "source": [
        "# Iris Flower Species Prediction (TODO Version)\n",
        "\n",
        "In this project, you will build a model to classify iris plants into one of three species based on the sizes of their petals and sepals. This is a multi-class classification problem that is well-suited for beginners to learn the fundamentals of machine learning classification.\n",
        "\n",
        "## Objective\n",
        "\n",
        "The goal is to predict the species of an iris plant based on the available attributes. You'll get to practice with a simple yet powerful classification algorithm.\n",
        "\n",
        "## Getting Started\n",
        "\n",
        "Research how to load the Iris dataset from `sklearn.datasets`. The `load_iris()` function will be useful here.\n",
        "\n",
        "- **Resource**: [Scikit-learn Iris dataset](https://scikit-learn.org/stable/auto_examples/datasets/plot_iris_dataset.html)\n"
      ]
    },
    {
      "cell_type": "code",
      "execution_count": null,
      "metadata": {
        "id": "-A8ZTmLZQcG1"
      },
      "outputs": [],
      "source": [
        "import pandas as pd\n",
        "import numpy as np\n",
        "from sklearn.datasets import load_iris\n",
        "from sklearn.model_selection import train_test_split\n",
        "from sklearn.preprocessing import StandardScaler\n",
        "from sklearn.neighbors import KNeighborsClassifier\n",
        "from sklearn.metrics import classification_report, confusion_matrix\n",
        "import seaborn as sns\n",
        "import matplotlib.pyplot as plt"
      ]
    },
    {
      "cell_type": "code",
      "execution_count": null,
      "metadata": {
        "id": "wBVVg1EFSCqy"
      },
      "outputs": [],
      "source": [
        "iris = load_iris()\n",
        "df = pd.DataFrame(data=iris.data, columns=iris.feature_names)\n",
        "df['target'] = iris.target"
      ]
    },
    {
      "cell_type": "markdown",
      "metadata": {
        "id": "rFWCkHzESHlC"
      },
      "source": [
        "## Data Exploration\n",
        "Take your time to understand the dataset. Look at the shape of the data, examine the features and target variables, and explore the statistical summary of the features.\n",
        "\n",
        "- **TODO**: Use DataFrame methods like `head`, `info`, and `describe` to explore the dataset.\n",
        "- **TODO**: Visualize the feature distributions and relationships between features.\n",
        "\n",
        "- **Resource**: [Pandas Visualization](https://pandas.pydata.org/pandas-docs/stable/user_guide/visualization.html)\n",
        "- **Resource**: [Seaborn Tutorial](https://seaborn.pydata.org/tutorial.html)"
      ]
    },
    {
      "cell_type": "code",
      "execution_count": null,
      "metadata": {
        "id": "hQUCbuyQSKbc"
      },
      "outputs": [],
      "source": [
        "# Display the first few rows\n",
        "print(df.head())\n",
        "\n",
        "# Statistical summary\n",
        "print(df.describe())\n",
        "\n",
        "# Pairplot\n",
        "sns.pairplot(df, hue='target')\n",
        "plt.show()"
      ]
    },
    {
      "cell_type": "markdown",
      "metadata": {
        "id": "X5m2j_A8SNsq"
      },
      "source": [
        "## Preprocessing the Data\n",
        "Prepare your data for training. Handle any necessary preprocessing steps such as scaling features, encoding categorical variables, and splitting the data into training and testing sets.\n",
        "\n",
        "- **TODO**: Preprocess the data to be ready for use in a machine learning model.\n",
        "- **TODO**: Split the data into features and target variable, then further into training and test sets.\n",
        "\n",
        "- **Resource**: [Preprocessing in Scikit-learn](https://scikit-learn.org/stable/modules/preprocessing.html)"
      ]
    },
    {
      "cell_type": "code",
      "execution_count": null,
      "metadata": {
        "id": "YILBKG0TSaff"
      },
      "outputs": [],
      "source": [
        "# Splitting the dataset into features and the label\n",
        "X = df.drop('target', axis=1)\n",
        "y = df['target']\n",
        "\n",
        "# Splitting the dataset into the Training set and Test set\n",
        "X_train, X_test, y_train, y_test = train_test_split(X, y, test_size=0.2, random_state=42)\n",
        "\n",
        "# Feature Scaling\n",
        "scaler = StandardScaler()\n",
        "X_train = scaler.fit_transform(X_train)\n",
        "X_test = scaler.transform(X_test)"
      ]
    },
    {
      "cell_type": "markdown",
      "metadata": {
        "id": "bzbghTU-SdIe"
      },
      "source": [
        "## Building and Training the Model\n",
        "Choose a suitable model for classification. Train your model using the training data.\n",
        "\n",
        "- **TODO**: Build and train a classification model.\n",
        "- **TODO**: Make predictions on the test data.\n",
        "\n",
        "- **Resource**: [Scikit-learn Supervised Learning](https://scikit-learn.org/stable/supervised_learning.html)"
      ]
    },
    {
      "cell_type": "code",
      "execution_count": null,
      "metadata": {
        "id": "vVzJ0OFKSmO8"
      },
      "outputs": [],
      "source": [
        "# Initialize the model\n",
        "classifier = KNeighborsClassifier(n_neighbors=5)\n",
        "\n",
        "# Fit the model\n",
        "classifier.fit(X_train, y_train)"
      ]
    },
    {
      "cell_type": "markdown",
      "metadata": {
        "id": "79EyTgAYSqHQ"
      },
      "source": [
        "## Evaluating the Model\n",
        "It's important to evaluate your trained model by calculating performance metrics and comparing the predicted values against the actual values.\n",
        "\n",
        "- **TODO**: Evaluate the model's performance using appropriate metrics.\n",
        "- **TODO**: Consider plotting a confusion matrix or other visual tools to understand the model's predictions.\n",
        "\n",
        "- **Resource**: [Model Evaluation in Scikit-learn](https://scikit-learn.org/stable/modules/model_evaluation.html)"
      ]
    },
    {
      "cell_type": "code",
      "execution_count": null,
      "metadata": {
        "id": "CzY25SY0Ss3g"
      },
      "outputs": [],
      "source": [
        "# Making predictions\n",
        "y_pred = classifier.predict(X_test)\n",
        "\n",
        "# Evaluating the model\n",
        "print(confusion_matrix(y_test, y_pred))\n",
        "print(classification_report(y_test, y_pred))"
      ]
    },
    {
      "cell_type": "markdown",
      "metadata": {
        "id": "D76PETemSv1j"
      },
      "source": [
        "## Conclusion\n",
        "\n",
        "Reflect on the performance of your model and the learning process. Consider how you might improve your model and what other algorithms you could try.\n",
        "\n",
        "Congratulations on completing this project!"
      ]
    }
  ],
  "metadata": {
    "colab": {
      "provenance": []
    },
    "kernelspec": {
      "display_name": "Python 3",
      "name": "python3"
    },
    "language_info": {
      "name": "python"
    }
  },
  "nbformat": 4,
  "nbformat_minor": 0
}
